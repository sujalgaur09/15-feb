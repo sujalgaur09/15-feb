{
 "cells": [
  {
   "cell_type": "code",
   "execution_count": 3,
   "id": "8f662204-9259-49f0-b83f-8b6308229380",
   "metadata": {},
   "outputs": [
    {
     "name": "stdout",
     "output_type": "stream",
     "text": [
      "ANSWER1:\n",
      "MULTITHREADING=A thread is a unit of execution within a process. Multithreading refers to concurrently executing multiple threads by rapidly switching the control of the CPU between threads (called context switching). A process of running multiple threads simultaneously within a single process.\n",
      "\n",
      "\n",
      "USE = it is use to run multiple program in a single core by making multiple thread inside the core also Multithreading in Python streamlines the efficient utilization of resources as the threads share the same memory and data space. It also allows the concurrent appearance of multiple tasks and reduces the response time.\n",
      "NAME OF MODULE=\n",
      "The thread module\n",
      "The threading module\n"
     ]
    }
   ],
   "source": [
    "print(\"\"\"ANSWER1:\n",
    "MULTITHREADING=A thread is a unit of execution within a process. Multithreading refers to concurrently executing multiple threads by rapidly switching the control of the CPU between threads (called context switching). A process of running multiple threads simultaneously within a single process.\n",
    "\n",
    "\n",
    "USE = it is use to run multiple program in a single core by making multiple thread inside the core also Multithreading in Python streamlines the efficient utilization of resources as the threads share the same memory and data space. It also allows the concurrent appearance of multiple tasks and reduces the response time.\n",
    "NAME OF MODULE=\n",
    "The thread module\n",
    "The threading module\"\"\")"
   ]
  },
  {
   "cell_type": "code",
   "execution_count": 5,
   "id": "d28edc2d-a7c8-429f-a43a-92c771e86e6b",
   "metadata": {},
   "outputs": [
    {
     "name": "stdout",
     "output_type": "stream",
     "text": [
      "ANSWER2\n",
      "Python threading used to have different parts of your program run concurrently and can simplify your design.\n",
      "use of activeCount() − Returns the number of thread objects that are active.\n",
      "use of currentThread() − Returns the number of thread objects in the caller's thread control.\n",
      "use of enumerate() − Returns a list of all thread objects that are currently active.\n"
     ]
    }
   ],
   "source": [
    "print(\"\"\"ANSWER2\n",
    "Python threading used to have different parts of your program run concurrently and can simplify your design.\n",
    "use of activeCount() − Returns the number of thread objects that are active.\n",
    "use of currentThread() − Returns the number of thread objects in the caller's thread control.\n",
    "use of enumerate() − Returns a list of all thread objects that are currently active.\"\"\")"
   ]
  },
  {
   "cell_type": "code",
   "execution_count": 6,
   "id": "fd2dc9e5-3832-43e4-afc0-b2c80810cc95",
   "metadata": {},
   "outputs": [
    {
     "name": "stdout",
     "output_type": "stream",
     "text": [
      "ANSWER3:\n",
      "run()=it is the entry point of a thread \n",
      "start()=it start the thread by calling run method\n",
      "join()=it waits for thread to terminate ,use to tell one thread to wait for another thread to finish\n",
      "isAlive()= it check whether a thread is still executing or not \n",
      "\n"
     ]
    }
   ],
   "source": [
    "print(\"\"\"ANSWER3:\n",
    "run()=it is the entry point of a thread \n",
    "start()=it start the thread by calling run method\n",
    "join()=it waits for thread to terminate ,use to tell one thread to wait for another thread to finish\n",
    "isAlive()= it check whether a thread is still executing or not \n",
    "\"\"\")"
   ]
  },
  {
   "cell_type": "code",
   "execution_count": 8,
   "id": "74961011-40c3-4553-8cfe-4ac76fe2ef6e",
   "metadata": {},
   "outputs": [
    {
     "name": "stdout",
     "output_type": "stream",
     "text": [
      "ANSWER4\n"
     ]
    }
   ],
   "source": [
    "print(\"ANSWER4\")"
   ]
  },
  {
   "cell_type": "code",
   "execution_count": 9,
   "id": "1f2fb9ff-7145-43af-9615-3814406c59bd",
   "metadata": {},
   "outputs": [],
   "source": []
  },
  {
   "cell_type": "code",
   "execution_count": 11,
   "id": "32b99d4f-11ab-4e89-b0ef-debdd44aa2e2",
   "metadata": {},
   "outputs": [
    {
     "name": "stdout",
     "output_type": "stream",
     "text": [
      "ANSWER5\n",
      "ADVANTAGES OF MULTITHREADING\n",
      "Enhanced performance by decreased development time\n",
      "Simplified and streamlined program coding\n",
      "Improvised GUI responsiveness\n",
      "Simultaneous and parallelized occurrence of tasks\n",
      "Better use of cache storage by utilization of resources\n",
      "Decreased cost of maintenance\n",
      "Better use of CPU resource\n",
      "\n",
      "\n",
      "DISADVANTAGES OF MULTITHREADING\n",
      "Complex debugging and testing processes\n",
      "Overhead switching of context\n",
      "Increased potential for deadlock occurrence\n",
      "Increased difficulty level in writing a program\n",
      "Unpredictable results\n"
     ]
    }
   ],
   "source": [
    "print(\"\"\"ANSWER5\n",
    "ADVANTAGES OF MULTITHREADING\n",
    "Enhanced performance by decreased development time\n",
    "Simplified and streamlined program coding\n",
    "Improvised GUI responsiveness\n",
    "Simultaneous and parallelized occurrence of tasks\n",
    "Better use of cache storage by utilization of resources\n",
    "Decreased cost of maintenance\n",
    "Better use of CPU resource\n",
    "\n",
    "\n",
    "DISADVANTAGES OF MULTITHREADING\n",
    "Complex debugging and testing processes\n",
    "Overhead switching of context\n",
    "Increased potential for deadlock occurrence\n",
    "Increased difficulty level in writing a program\n",
    "Unpredictable results\"\"\")"
   ]
  },
  {
   "cell_type": "code",
   "execution_count": 12,
   "id": "635fed23-5717-406b-b0a6-63af91ff28ae",
   "metadata": {},
   "outputs": [
    {
     "name": "stdout",
     "output_type": "stream",
     "text": [
      "ANSWER6\n",
      "DEADLOCK:A deadlock is when two (or more) threads are blocking each other. Usually this has something to do with threads trying to acquire shared resources. For example if threads T1 and T2 need to acquire both resources A and B in order to do their work. If T1 acquires resource A, then T2 acquires resource B, T1 could then be waiting for resource B while T2 was waiting for resource A. In this case, both threads will wait indefinitely for the resource held by the other thread. These threads are said to be deadlocked.\n",
      "\n",
      "RACE CONDITION:Race conditions occur when two threads interact in a negatve (buggy) way depending on the exact order that their different instructions are executed. If one thread sets a global variable, for example, then a second thread reads and modifies that global variable, and the first thread reads the variable, the first thread may experience a bug because the variable has changed unexpectedly.\n",
      "\n",
      "\n",
      "\n"
     ]
    }
   ],
   "source": [
    "print(\"\"\"ANSWER6\n",
    "DEADLOCK:A deadlock is when two (or more) threads are blocking each other. Usually this has something to do with threads trying to acquire shared resources. For example if threads T1 and T2 need to acquire both resources A and B in order to do their work. If T1 acquires resource A, then T2 acquires resource B, T1 could then be waiting for resource B while T2 was waiting for resource A. In this case, both threads will wait indefinitely for the resource held by the other thread. These threads are said to be deadlocked.\n",
    "\n",
    "RACE CONDITION:Race conditions occur when two threads interact in a negatve (buggy) way depending on the exact order that their different instructions are executed. If one thread sets a global variable, for example, then a second thread reads and modifies that global variable, and the first thread reads the variable, the first thread may experience a bug because the variable has changed unexpectedly.\n",
    "\n",
    "\n",
    "\"\"\")"
   ]
  },
  {
   "cell_type": "code",
   "execution_count": null,
   "id": "c273615b-5546-4333-b191-8be91cac0fff",
   "metadata": {},
   "outputs": [],
   "source": [
    "print(\"THANK YOU\")"
   ]
  }
 ],
 "metadata": {
  "kernelspec": {
   "display_name": "Python 3 (ipykernel)",
   "language": "python",
   "name": "python3"
  },
  "language_info": {
   "codemirror_mode": {
    "name": "ipython",
    "version": 3
   },
   "file_extension": ".py",
   "mimetype": "text/x-python",
   "name": "python",
   "nbconvert_exporter": "python",
   "pygments_lexer": "ipython3",
   "version": "3.10.8"
  }
 },
 "nbformat": 4,
 "nbformat_minor": 5
}
